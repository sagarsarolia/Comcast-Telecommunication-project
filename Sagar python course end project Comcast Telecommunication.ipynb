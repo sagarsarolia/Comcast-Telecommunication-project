{
 "cells": [
  {
   "cell_type": "markdown",
   "id": "391d9fbc",
   "metadata": {},
   "source": [
    "# Importing Necessary Libraries"
   ]
  },
  {
   "cell_type": "code",
   "execution_count": 53,
   "id": "c120a714",
   "metadata": {},
   "outputs": [],
   "source": [
    "import numpy as np\n",
    "import pandas as pd\n",
    "import matplotlib.pyplot as plt\n",
    "import seaborn as sns \n"
   ]
  },
  {
   "cell_type": "markdown",
   "id": "c3712fb0",
   "metadata": {},
   "source": [
    "# Task 1: Import data into Python environment."
   ]
  },
  {
   "cell_type": "markdown",
   "id": "4d0f2a6b",
   "metadata": {},
   "source": [
    "**Import data set**"
   ]
  },
  {
   "cell_type": "code",
   "execution_count": 54,
   "id": "2b55bf1c",
   "metadata": {},
   "outputs": [],
   "source": [
    "dataset = pd.read_csv(\"Comcast_telecom_complaints_data.csv\")\n"
   ]
  },
  {
   "cell_type": "markdown",
   "id": "f78e23a4",
   "metadata": {},
   "source": [
    "**Check whether data imported or not**"
   ]
  },
  {
   "cell_type": "code",
   "execution_count": 55,
   "id": "f22b4de7",
   "metadata": {},
   "outputs": [
    {
     "data": {
      "text/html": [
       "<div>\n",
       "<style scoped>\n",
       "    .dataframe tbody tr th:only-of-type {\n",
       "        vertical-align: middle;\n",
       "    }\n",
       "\n",
       "    .dataframe tbody tr th {\n",
       "        vertical-align: top;\n",
       "    }\n",
       "\n",
       "    .dataframe thead th {\n",
       "        text-align: right;\n",
       "    }\n",
       "</style>\n",
       "<table border=\"1\" class=\"dataframe\">\n",
       "  <thead>\n",
       "    <tr style=\"text-align: right;\">\n",
       "      <th></th>\n",
       "      <th>Ticket #</th>\n",
       "      <th>Customer Complaint</th>\n",
       "      <th>Date</th>\n",
       "      <th>Date_month_year</th>\n",
       "      <th>Time</th>\n",
       "      <th>Received Via</th>\n",
       "      <th>City</th>\n",
       "      <th>State</th>\n",
       "      <th>Zip code</th>\n",
       "      <th>Status</th>\n",
       "      <th>Filing on Behalf of Someone</th>\n",
       "    </tr>\n",
       "  </thead>\n",
       "  <tbody>\n",
       "    <tr>\n",
       "      <th>0</th>\n",
       "      <td>250635</td>\n",
       "      <td>Comcast Cable Internet Speeds</td>\n",
       "      <td>22-04-15</td>\n",
       "      <td>22-Apr-15</td>\n",
       "      <td>3:53:50 PM</td>\n",
       "      <td>Customer Care Call</td>\n",
       "      <td>Abingdon</td>\n",
       "      <td>Maryland</td>\n",
       "      <td>21009</td>\n",
       "      <td>Closed</td>\n",
       "      <td>No</td>\n",
       "    </tr>\n",
       "    <tr>\n",
       "      <th>1</th>\n",
       "      <td>223441</td>\n",
       "      <td>Payment disappear - service got disconnected</td>\n",
       "      <td>04-08-15</td>\n",
       "      <td>04-Aug-15</td>\n",
       "      <td>10:22:56 AM</td>\n",
       "      <td>Internet</td>\n",
       "      <td>Acworth</td>\n",
       "      <td>Georgia</td>\n",
       "      <td>30102</td>\n",
       "      <td>Closed</td>\n",
       "      <td>No</td>\n",
       "    </tr>\n",
       "    <tr>\n",
       "      <th>2</th>\n",
       "      <td>242732</td>\n",
       "      <td>Speed and Service</td>\n",
       "      <td>18-04-15</td>\n",
       "      <td>18-Apr-15</td>\n",
       "      <td>9:55:47 AM</td>\n",
       "      <td>Internet</td>\n",
       "      <td>Acworth</td>\n",
       "      <td>Georgia</td>\n",
       "      <td>30101</td>\n",
       "      <td>Closed</td>\n",
       "      <td>Yes</td>\n",
       "    </tr>\n",
       "    <tr>\n",
       "      <th>3</th>\n",
       "      <td>277946</td>\n",
       "      <td>Comcast Imposed a New Usage Cap of 300GB that ...</td>\n",
       "      <td>05-07-15</td>\n",
       "      <td>05-Jul-15</td>\n",
       "      <td>11:59:35 AM</td>\n",
       "      <td>Internet</td>\n",
       "      <td>Acworth</td>\n",
       "      <td>Georgia</td>\n",
       "      <td>30101</td>\n",
       "      <td>Open</td>\n",
       "      <td>Yes</td>\n",
       "    </tr>\n",
       "    <tr>\n",
       "      <th>4</th>\n",
       "      <td>307175</td>\n",
       "      <td>Comcast not working and no service to boot</td>\n",
       "      <td>26-05-15</td>\n",
       "      <td>26-May-15</td>\n",
       "      <td>1:25:26 PM</td>\n",
       "      <td>Internet</td>\n",
       "      <td>Acworth</td>\n",
       "      <td>Georgia</td>\n",
       "      <td>30101</td>\n",
       "      <td>Solved</td>\n",
       "      <td>No</td>\n",
       "    </tr>\n",
       "  </tbody>\n",
       "</table>\n",
       "</div>"
      ],
      "text/plain": [
       "  Ticket #                                 Customer Complaint      Date  \\\n",
       "0   250635                      Comcast Cable Internet Speeds  22-04-15   \n",
       "1   223441       Payment disappear - service got disconnected  04-08-15   \n",
       "2   242732                                  Speed and Service  18-04-15   \n",
       "3   277946  Comcast Imposed a New Usage Cap of 300GB that ...  05-07-15   \n",
       "4   307175         Comcast not working and no service to boot  26-05-15   \n",
       "\n",
       "  Date_month_year         Time        Received Via      City     State  \\\n",
       "0       22-Apr-15   3:53:50 PM  Customer Care Call  Abingdon  Maryland   \n",
       "1       04-Aug-15  10:22:56 AM            Internet   Acworth   Georgia   \n",
       "2       18-Apr-15   9:55:47 AM            Internet   Acworth   Georgia   \n",
       "3       05-Jul-15  11:59:35 AM            Internet   Acworth   Georgia   \n",
       "4       26-May-15   1:25:26 PM            Internet   Acworth   Georgia   \n",
       "\n",
       "   Zip code  Status Filing on Behalf of Someone  \n",
       "0     21009  Closed                          No  \n",
       "1     30102  Closed                          No  \n",
       "2     30101  Closed                         Yes  \n",
       "3     30101    Open                         Yes  \n",
       "4     30101  Solved                          No  "
      ]
     },
     "execution_count": 55,
     "metadata": {},
     "output_type": "execute_result"
    }
   ],
   "source": [
    "dataset.head()"
   ]
  },
  {
   "cell_type": "markdown",
   "id": "e4aab667",
   "metadata": {},
   "source": [
    "**Perform basic EDA**\n",
    "    \n",
    "    1. Info\n",
    "    2. Shape\n",
    "    3. Describe\n",
    "    4. Missing values\n",
    "    5. Sort\n",
    "    "
   ]
  },
  {
   "cell_type": "code",
   "execution_count": 56,
   "id": "07de7077",
   "metadata": {},
   "outputs": [
    {
     "name": "stdout",
     "output_type": "stream",
     "text": [
      "<class 'pandas.core.frame.DataFrame'>\n",
      "RangeIndex: 2224 entries, 0 to 2223\n",
      "Data columns (total 11 columns):\n",
      " #   Column                       Non-Null Count  Dtype \n",
      "---  ------                       --------------  ----- \n",
      " 0   Ticket #                     2224 non-null   object\n",
      " 1   Customer Complaint           2224 non-null   object\n",
      " 2   Date                         2224 non-null   object\n",
      " 3   Date_month_year              2224 non-null   object\n",
      " 4   Time                         2224 non-null   object\n",
      " 5   Received Via                 2224 non-null   object\n",
      " 6   City                         2224 non-null   object\n",
      " 7   State                        2224 non-null   object\n",
      " 8   Zip code                     2224 non-null   int64 \n",
      " 9   Status                       2224 non-null   object\n",
      " 10  Filing on Behalf of Someone  2224 non-null   object\n",
      "dtypes: int64(1), object(10)\n",
      "memory usage: 191.2+ KB\n"
     ]
    }
   ],
   "source": [
    "dataset.info()"
   ]
  },
  {
   "cell_type": "code",
   "execution_count": 57,
   "id": "1758d684",
   "metadata": {},
   "outputs": [
    {
     "data": {
      "text/plain": [
       "(2224, 11)"
      ]
     },
     "execution_count": 57,
     "metadata": {},
     "output_type": "execute_result"
    }
   ],
   "source": [
    "dataset.shape"
   ]
  },
  {
   "cell_type": "code",
   "execution_count": 58,
   "id": "72f19e30",
   "metadata": {},
   "outputs": [
    {
     "data": {
      "text/html": [
       "<div>\n",
       "<style scoped>\n",
       "    .dataframe tbody tr th:only-of-type {\n",
       "        vertical-align: middle;\n",
       "    }\n",
       "\n",
       "    .dataframe tbody tr th {\n",
       "        vertical-align: top;\n",
       "    }\n",
       "\n",
       "    .dataframe thead th {\n",
       "        text-align: right;\n",
       "    }\n",
       "</style>\n",
       "<table border=\"1\" class=\"dataframe\">\n",
       "  <thead>\n",
       "    <tr style=\"text-align: right;\">\n",
       "      <th></th>\n",
       "      <th>Zip code</th>\n",
       "    </tr>\n",
       "  </thead>\n",
       "  <tbody>\n",
       "    <tr>\n",
       "      <th>count</th>\n",
       "      <td>2224.000000</td>\n",
       "    </tr>\n",
       "    <tr>\n",
       "      <th>mean</th>\n",
       "      <td>47994.393435</td>\n",
       "    </tr>\n",
       "    <tr>\n",
       "      <th>std</th>\n",
       "      <td>28885.279427</td>\n",
       "    </tr>\n",
       "    <tr>\n",
       "      <th>min</th>\n",
       "      <td>1075.000000</td>\n",
       "    </tr>\n",
       "    <tr>\n",
       "      <th>25%</th>\n",
       "      <td>30056.500000</td>\n",
       "    </tr>\n",
       "    <tr>\n",
       "      <th>50%</th>\n",
       "      <td>37211.000000</td>\n",
       "    </tr>\n",
       "    <tr>\n",
       "      <th>75%</th>\n",
       "      <td>77058.750000</td>\n",
       "    </tr>\n",
       "    <tr>\n",
       "      <th>max</th>\n",
       "      <td>99223.000000</td>\n",
       "    </tr>\n",
       "  </tbody>\n",
       "</table>\n",
       "</div>"
      ],
      "text/plain": [
       "           Zip code\n",
       "count   2224.000000\n",
       "mean   47994.393435\n",
       "std    28885.279427\n",
       "min     1075.000000\n",
       "25%    30056.500000\n",
       "50%    37211.000000\n",
       "75%    77058.750000\n",
       "max    99223.000000"
      ]
     },
     "execution_count": 58,
     "metadata": {},
     "output_type": "execute_result"
    }
   ],
   "source": [
    "dataset.describe()"
   ]
  },
  {
   "cell_type": "code",
   "execution_count": 59,
   "id": "3b4fde95",
   "metadata": {},
   "outputs": [
    {
     "data": {
      "text/plain": [
       "Ticket #                       0\n",
       "Customer Complaint             0\n",
       "Date                           0\n",
       "Date_month_year                0\n",
       "Time                           0\n",
       "Received Via                   0\n",
       "City                           0\n",
       "State                          0\n",
       "Zip code                       0\n",
       "Status                         0\n",
       "Filing on Behalf of Someone    0\n",
       "dtype: int64"
      ]
     },
     "execution_count": 59,
     "metadata": {},
     "output_type": "execute_result"
    }
   ],
   "source": [
    "dataset.isna().sum()"
   ]
  },
  {
   "cell_type": "markdown",
   "id": "f8b1dfed",
   "metadata": {},
   "source": [
    "**Analysis: Data has no missing values**"
   ]
  },
  {
   "cell_type": "code",
   "execution_count": 60,
   "id": "d50f302e",
   "metadata": {},
   "outputs": [
    {
     "data": {
      "text/html": [
       "<div>\n",
       "<style scoped>\n",
       "    .dataframe tbody tr th:only-of-type {\n",
       "        vertical-align: middle;\n",
       "    }\n",
       "\n",
       "    .dataframe tbody tr th {\n",
       "        vertical-align: top;\n",
       "    }\n",
       "\n",
       "    .dataframe thead th {\n",
       "        text-align: right;\n",
       "    }\n",
       "</style>\n",
       "<table border=\"1\" class=\"dataframe\">\n",
       "  <thead>\n",
       "    <tr style=\"text-align: right;\">\n",
       "      <th></th>\n",
       "      <th>Ticket #</th>\n",
       "      <th>Customer Complaint</th>\n",
       "      <th>Date</th>\n",
       "      <th>Date_month_year</th>\n",
       "      <th>Time</th>\n",
       "      <th>Received Via</th>\n",
       "      <th>City</th>\n",
       "      <th>State</th>\n",
       "      <th>Zip code</th>\n",
       "      <th>Status</th>\n",
       "      <th>Filing on Behalf of Someone</th>\n",
       "    </tr>\n",
       "  </thead>\n",
       "  <tbody>\n",
       "    <tr>\n",
       "      <th>0</th>\n",
       "      <td>250635</td>\n",
       "      <td>Comcast Cable Internet Speeds</td>\n",
       "      <td>22-04-15</td>\n",
       "      <td>22-Apr-15</td>\n",
       "      <td>3:53:50 PM</td>\n",
       "      <td>Customer Care Call</td>\n",
       "      <td>Abingdon</td>\n",
       "      <td>Maryland</td>\n",
       "      <td>21009</td>\n",
       "      <td>Closed</td>\n",
       "      <td>No</td>\n",
       "    </tr>\n",
       "    <tr>\n",
       "      <th>1</th>\n",
       "      <td>223441</td>\n",
       "      <td>Payment disappear - service got disconnected</td>\n",
       "      <td>04-08-15</td>\n",
       "      <td>04-Aug-15</td>\n",
       "      <td>10:22:56 AM</td>\n",
       "      <td>Internet</td>\n",
       "      <td>Acworth</td>\n",
       "      <td>Georgia</td>\n",
       "      <td>30102</td>\n",
       "      <td>Closed</td>\n",
       "      <td>No</td>\n",
       "    </tr>\n",
       "    <tr>\n",
       "      <th>2</th>\n",
       "      <td>242732</td>\n",
       "      <td>Speed and Service</td>\n",
       "      <td>18-04-15</td>\n",
       "      <td>18-Apr-15</td>\n",
       "      <td>9:55:47 AM</td>\n",
       "      <td>Internet</td>\n",
       "      <td>Acworth</td>\n",
       "      <td>Georgia</td>\n",
       "      <td>30101</td>\n",
       "      <td>Closed</td>\n",
       "      <td>Yes</td>\n",
       "    </tr>\n",
       "    <tr>\n",
       "      <th>3</th>\n",
       "      <td>277946</td>\n",
       "      <td>Comcast Imposed a New Usage Cap of 300GB that ...</td>\n",
       "      <td>05-07-15</td>\n",
       "      <td>05-Jul-15</td>\n",
       "      <td>11:59:35 AM</td>\n",
       "      <td>Internet</td>\n",
       "      <td>Acworth</td>\n",
       "      <td>Georgia</td>\n",
       "      <td>30101</td>\n",
       "      <td>Open</td>\n",
       "      <td>Yes</td>\n",
       "    </tr>\n",
       "    <tr>\n",
       "      <th>4</th>\n",
       "      <td>307175</td>\n",
       "      <td>Comcast not working and no service to boot</td>\n",
       "      <td>26-05-15</td>\n",
       "      <td>26-May-15</td>\n",
       "      <td>1:25:26 PM</td>\n",
       "      <td>Internet</td>\n",
       "      <td>Acworth</td>\n",
       "      <td>Georgia</td>\n",
       "      <td>30101</td>\n",
       "      <td>Solved</td>\n",
       "      <td>No</td>\n",
       "    </tr>\n",
       "  </tbody>\n",
       "</table>\n",
       "</div>"
      ],
      "text/plain": [
       "  Ticket #                                 Customer Complaint      Date  \\\n",
       "0   250635                      Comcast Cable Internet Speeds  22-04-15   \n",
       "1   223441       Payment disappear - service got disconnected  04-08-15   \n",
       "2   242732                                  Speed and Service  18-04-15   \n",
       "3   277946  Comcast Imposed a New Usage Cap of 300GB that ...  05-07-15   \n",
       "4   307175         Comcast not working and no service to boot  26-05-15   \n",
       "\n",
       "  Date_month_year         Time        Received Via      City     State  \\\n",
       "0       22-Apr-15   3:53:50 PM  Customer Care Call  Abingdon  Maryland   \n",
       "1       04-Aug-15  10:22:56 AM            Internet   Acworth   Georgia   \n",
       "2       18-Apr-15   9:55:47 AM            Internet   Acworth   Georgia   \n",
       "3       05-Jul-15  11:59:35 AM            Internet   Acworth   Georgia   \n",
       "4       26-May-15   1:25:26 PM            Internet   Acworth   Georgia   \n",
       "\n",
       "   Zip code  Status Filing on Behalf of Someone  \n",
       "0     21009  Closed                          No  \n",
       "1     30102  Closed                          No  \n",
       "2     30101  Closed                         Yes  \n",
       "3     30101    Open                         Yes  \n",
       "4     30101  Solved                          No  "
      ]
     },
     "execution_count": 60,
     "metadata": {},
     "output_type": "execute_result"
    }
   ],
   "source": [
    "#Original dataset\n",
    "dataset.head()"
   ]
  },
  {
   "cell_type": "code",
   "execution_count": 61,
   "id": "f26d7be4",
   "metadata": {},
   "outputs": [],
   "source": [
    "#sort the dataset"
   ]
  },
  {
   "cell_type": "code",
   "execution_count": 62,
   "id": "bceca569",
   "metadata": {},
   "outputs": [
    {
     "data": {
      "text/html": [
       "<div>\n",
       "<style scoped>\n",
       "    .dataframe tbody tr th:only-of-type {\n",
       "        vertical-align: middle;\n",
       "    }\n",
       "\n",
       "    .dataframe tbody tr th {\n",
       "        vertical-align: top;\n",
       "    }\n",
       "\n",
       "    .dataframe thead th {\n",
       "        text-align: right;\n",
       "    }\n",
       "</style>\n",
       "<table border=\"1\" class=\"dataframe\">\n",
       "  <thead>\n",
       "    <tr style=\"text-align: right;\">\n",
       "      <th></th>\n",
       "      <th>Ticket #</th>\n",
       "      <th>Customer Complaint</th>\n",
       "      <th>Date</th>\n",
       "      <th>Date_month_year</th>\n",
       "      <th>Time</th>\n",
       "      <th>Received Via</th>\n",
       "      <th>City</th>\n",
       "      <th>State</th>\n",
       "      <th>Zip code</th>\n",
       "      <th>Status</th>\n",
       "      <th>Filing on Behalf of Someone</th>\n",
       "    </tr>\n",
       "  </thead>\n",
       "  <tbody>\n",
       "    <tr>\n",
       "      <th>1416</th>\n",
       "      <td>218108</td>\n",
       "      <td>Comcast Business Phone/Internet Contract Disag...</td>\n",
       "      <td>04-04-15</td>\n",
       "      <td>04-Apr-15</td>\n",
       "      <td>6:39:55 PM</td>\n",
       "      <td>Internet</td>\n",
       "      <td>Newnan</td>\n",
       "      <td>Georgia</td>\n",
       "      <td>30265</td>\n",
       "      <td>Closed</td>\n",
       "      <td>No</td>\n",
       "    </tr>\n",
       "    <tr>\n",
       "      <th>1483</th>\n",
       "      <td>217985</td>\n",
       "      <td>bait and switch services for monetary gain</td>\n",
       "      <td>04-04-15</td>\n",
       "      <td>04-Apr-15</td>\n",
       "      <td>4:07:36 PM</td>\n",
       "      <td>Internet</td>\n",
       "      <td>Orcutt</td>\n",
       "      <td>California</td>\n",
       "      <td>93455</td>\n",
       "      <td>Closed</td>\n",
       "      <td>No</td>\n",
       "    </tr>\n",
       "    <tr>\n",
       "      <th>584</th>\n",
       "      <td>217999</td>\n",
       "      <td>Misleading information given</td>\n",
       "      <td>04-04-15</td>\n",
       "      <td>04-Apr-15</td>\n",
       "      <td>4:21:46 PM</td>\n",
       "      <td>Internet</td>\n",
       "      <td>Des Moines</td>\n",
       "      <td>Washington</td>\n",
       "      <td>98148</td>\n",
       "      <td>Closed</td>\n",
       "      <td>Yes</td>\n",
       "    </tr>\n",
       "    <tr>\n",
       "      <th>561</th>\n",
       "      <td>218043</td>\n",
       "      <td>comcast services</td>\n",
       "      <td>04-04-15</td>\n",
       "      <td>04-Apr-15</td>\n",
       "      <td>5:32:05 PM</td>\n",
       "      <td>Internet</td>\n",
       "      <td>Denver</td>\n",
       "      <td>Colorado</td>\n",
       "      <td>80227</td>\n",
       "      <td>Closed</td>\n",
       "      <td>No</td>\n",
       "    </tr>\n",
       "    <tr>\n",
       "      <th>1892</th>\n",
       "      <td>218168</td>\n",
       "      <td>Multiple Unauthorized and Unwarranted Credit C...</td>\n",
       "      <td>04-04-15</td>\n",
       "      <td>04-Apr-15</td>\n",
       "      <td>8:10:35 PM</td>\n",
       "      <td>Customer Care Call</td>\n",
       "      <td>Shoreview</td>\n",
       "      <td>Minnesota</td>\n",
       "      <td>55126</td>\n",
       "      <td>Closed</td>\n",
       "      <td>No</td>\n",
       "    </tr>\n",
       "  </tbody>\n",
       "</table>\n",
       "</div>"
      ],
      "text/plain": [
       "     Ticket #                                 Customer Complaint      Date  \\\n",
       "1416   218108  Comcast Business Phone/Internet Contract Disag...  04-04-15   \n",
       "1483   217985         bait and switch services for monetary gain  04-04-15   \n",
       "584    217999                       Misleading information given  04-04-15   \n",
       "561    218043                                   comcast services  04-04-15   \n",
       "1892   218168  Multiple Unauthorized and Unwarranted Credit C...  04-04-15   \n",
       "\n",
       "     Date_month_year        Time        Received Via        City       State  \\\n",
       "1416       04-Apr-15  6:39:55 PM            Internet      Newnan     Georgia   \n",
       "1483       04-Apr-15  4:07:36 PM            Internet      Orcutt  California   \n",
       "584        04-Apr-15  4:21:46 PM            Internet  Des Moines  Washington   \n",
       "561        04-Apr-15  5:32:05 PM            Internet      Denver    Colorado   \n",
       "1892       04-Apr-15  8:10:35 PM  Customer Care Call   Shoreview   Minnesota   \n",
       "\n",
       "      Zip code  Status Filing on Behalf of Someone  \n",
       "1416     30265  Closed                          No  \n",
       "1483     93455  Closed                          No  \n",
       "584      98148  Closed                         Yes  \n",
       "561      80227  Closed                          No  \n",
       "1892     55126  Closed                          No  "
      ]
     },
     "execution_count": 62,
     "metadata": {},
     "output_type": "execute_result"
    }
   ],
   "source": [
    "dataset.sort_values([\"Date_month_year\"], inplace= True)\n",
    "dataset.head()"
   ]
  },
  {
   "cell_type": "markdown",
   "id": "32b52791",
   "metadata": {},
   "source": [
    "# Task 2: Provide the trend chart for the number of complaints at monthly and daily granularity levels."
   ]
  },
  {
   "cell_type": "markdown",
   "id": "2a928360",
   "metadata": {},
   "source": [
    "**Adding a month column in dataset**"
   ]
  },
  {
   "cell_type": "code",
   "execution_count": 63,
   "id": "7cc21e80",
   "metadata": {},
   "outputs": [],
   "source": [
    "dataset['Month'] = pd.DatetimeIndex(data= dataset['Date_month_year']).month"
   ]
  },
  {
   "cell_type": "code",
   "execution_count": 64,
   "id": "7a97a81b",
   "metadata": {},
   "outputs": [
    {
     "data": {
      "text/html": [
       "<div>\n",
       "<style scoped>\n",
       "    .dataframe tbody tr th:only-of-type {\n",
       "        vertical-align: middle;\n",
       "    }\n",
       "\n",
       "    .dataframe tbody tr th {\n",
       "        vertical-align: top;\n",
       "    }\n",
       "\n",
       "    .dataframe thead th {\n",
       "        text-align: right;\n",
       "    }\n",
       "</style>\n",
       "<table border=\"1\" class=\"dataframe\">\n",
       "  <thead>\n",
       "    <tr style=\"text-align: right;\">\n",
       "      <th></th>\n",
       "      <th>Ticket #</th>\n",
       "      <th>Customer Complaint</th>\n",
       "      <th>Date</th>\n",
       "      <th>Date_month_year</th>\n",
       "      <th>Time</th>\n",
       "      <th>Received Via</th>\n",
       "      <th>City</th>\n",
       "      <th>State</th>\n",
       "      <th>Zip code</th>\n",
       "      <th>Status</th>\n",
       "      <th>Filing on Behalf of Someone</th>\n",
       "      <th>Month</th>\n",
       "    </tr>\n",
       "  </thead>\n",
       "  <tbody>\n",
       "    <tr>\n",
       "      <th>1416</th>\n",
       "      <td>218108</td>\n",
       "      <td>Comcast Business Phone/Internet Contract Disag...</td>\n",
       "      <td>04-04-15</td>\n",
       "      <td>04-Apr-15</td>\n",
       "      <td>6:39:55 PM</td>\n",
       "      <td>Internet</td>\n",
       "      <td>Newnan</td>\n",
       "      <td>Georgia</td>\n",
       "      <td>30265</td>\n",
       "      <td>Closed</td>\n",
       "      <td>No</td>\n",
       "      <td>4</td>\n",
       "    </tr>\n",
       "    <tr>\n",
       "      <th>1483</th>\n",
       "      <td>217985</td>\n",
       "      <td>bait and switch services for monetary gain</td>\n",
       "      <td>04-04-15</td>\n",
       "      <td>04-Apr-15</td>\n",
       "      <td>4:07:36 PM</td>\n",
       "      <td>Internet</td>\n",
       "      <td>Orcutt</td>\n",
       "      <td>California</td>\n",
       "      <td>93455</td>\n",
       "      <td>Closed</td>\n",
       "      <td>No</td>\n",
       "      <td>4</td>\n",
       "    </tr>\n",
       "    <tr>\n",
       "      <th>584</th>\n",
       "      <td>217999</td>\n",
       "      <td>Misleading information given</td>\n",
       "      <td>04-04-15</td>\n",
       "      <td>04-Apr-15</td>\n",
       "      <td>4:21:46 PM</td>\n",
       "      <td>Internet</td>\n",
       "      <td>Des Moines</td>\n",
       "      <td>Washington</td>\n",
       "      <td>98148</td>\n",
       "      <td>Closed</td>\n",
       "      <td>Yes</td>\n",
       "      <td>4</td>\n",
       "    </tr>\n",
       "    <tr>\n",
       "      <th>561</th>\n",
       "      <td>218043</td>\n",
       "      <td>comcast services</td>\n",
       "      <td>04-04-15</td>\n",
       "      <td>04-Apr-15</td>\n",
       "      <td>5:32:05 PM</td>\n",
       "      <td>Internet</td>\n",
       "      <td>Denver</td>\n",
       "      <td>Colorado</td>\n",
       "      <td>80227</td>\n",
       "      <td>Closed</td>\n",
       "      <td>No</td>\n",
       "      <td>4</td>\n",
       "    </tr>\n",
       "    <tr>\n",
       "      <th>1892</th>\n",
       "      <td>218168</td>\n",
       "      <td>Multiple Unauthorized and Unwarranted Credit C...</td>\n",
       "      <td>04-04-15</td>\n",
       "      <td>04-Apr-15</td>\n",
       "      <td>8:10:35 PM</td>\n",
       "      <td>Customer Care Call</td>\n",
       "      <td>Shoreview</td>\n",
       "      <td>Minnesota</td>\n",
       "      <td>55126</td>\n",
       "      <td>Closed</td>\n",
       "      <td>No</td>\n",
       "      <td>4</td>\n",
       "    </tr>\n",
       "  </tbody>\n",
       "</table>\n",
       "</div>"
      ],
      "text/plain": [
       "     Ticket #                                 Customer Complaint      Date  \\\n",
       "1416   218108  Comcast Business Phone/Internet Contract Disag...  04-04-15   \n",
       "1483   217985         bait and switch services for monetary gain  04-04-15   \n",
       "584    217999                       Misleading information given  04-04-15   \n",
       "561    218043                                   comcast services  04-04-15   \n",
       "1892   218168  Multiple Unauthorized and Unwarranted Credit C...  04-04-15   \n",
       "\n",
       "     Date_month_year        Time        Received Via        City       State  \\\n",
       "1416       04-Apr-15  6:39:55 PM            Internet      Newnan     Georgia   \n",
       "1483       04-Apr-15  4:07:36 PM            Internet      Orcutt  California   \n",
       "584        04-Apr-15  4:21:46 PM            Internet  Des Moines  Washington   \n",
       "561        04-Apr-15  5:32:05 PM            Internet      Denver    Colorado   \n",
       "1892       04-Apr-15  8:10:35 PM  Customer Care Call   Shoreview   Minnesota   \n",
       "\n",
       "      Zip code  Status Filing on Behalf of Someone  Month  \n",
       "1416     30265  Closed                          No      4  \n",
       "1483     93455  Closed                          No      4  \n",
       "584      98148  Closed                         Yes      4  \n",
       "561      80227  Closed                          No      4  \n",
       "1892     55126  Closed                          No      4  "
      ]
     },
     "execution_count": 64,
     "metadata": {},
     "output_type": "execute_result"
    }
   ],
   "source": [
    "dataset.head()"
   ]
  },
  {
   "cell_type": "markdown",
   "id": "3bc25c7f",
   "metadata": {},
   "source": [
    "**Count number of complaints month wise**"
   ]
  },
  {
   "cell_type": "code",
   "execution_count": 65,
   "id": "51999409",
   "metadata": {},
   "outputs": [
    {
     "data": {
      "text/plain": [
       "Month\n",
       "1       55\n",
       "2       59\n",
       "3       45\n",
       "4      375\n",
       "5      317\n",
       "6     1046\n",
       "7       49\n",
       "8       67\n",
       "9       55\n",
       "10      53\n",
       "11      38\n",
       "12      65\n",
       "dtype: int64"
      ]
     },
     "execution_count": 65,
     "metadata": {},
     "output_type": "execute_result"
    }
   ],
   "source": [
    "dataset_month_wise = dataset.groupby('Month')\n",
    "dataset_month_wise = dataset_month_wise.size()\n",
    "dataset_month_wise"
   ]
  },
  {
   "cell_type": "markdown",
   "id": "7b1f51c4",
   "metadata": {},
   "source": [
    "**Plot for month wise complaints**"
   ]
  },
  {
   "cell_type": "code",
   "execution_count": 66,
   "id": "a61430ed",
   "metadata": {
    "scrolled": true
   },
   "outputs": [
    {
     "data": {
      "image/png": "[encoded data removed]",
      "text/plain": [
       "<Figure size 1008x360 with 1 Axes>"
      ]
     },
     "metadata": {
      "needs_background": "light"
     },
     "output_type": "display_data"
    }
   ],
   "source": [
    "plt.figure(figsize=(14,5))\n",
    "sns.lineplot(data= dataset_month_wise, color = \"coral\", marker = 'o')\n",
    "plt.title('Trend showing Monthly Number of complaints')\n",
    "plt.ylabel('Number of complaints')\n",
    "plt.xlabel('Months')\n",
    "plt.annotate('Max complaints in June', color='red',\n",
    "            xy=(6, 1046), xycoords='data',\n",
    "            xytext=(0.8, 0.85), textcoords='axes fraction',\n",
    "            arrowprops=dict(facecolor='black', shrink=0.1),\n",
    "            horizontalalignment='right', verticalalignment='top')\n",
    "plt.show()"
   ]
  },
  {
   "cell_type": "markdown",
   "id": "928f9e75",
   "metadata": {},
   "source": [
    "**Count number of complaints: Date wise**"
   ]
  },
  {
   "cell_type": "code",
   "execution_count": 67,
   "id": "17c3fadf",
   "metadata": {},
   "outputs": [
    {
     "data": {
      "text/plain": [
       "Date_month_year\n",
       "24-Jun-15    218\n",
       "23-Jun-15    190\n",
       "25-Jun-15     98\n",
       "26-Jun-15     55\n",
       "30-Jun-15     53\n",
       "            ... \n",
       "05-Feb-15      7\n",
       "05-Dec-15      7\n",
       "04-May-15      6\n",
       "04-Nov-15      5\n",
       "05-Mar-15      5\n",
       "Length: 91, dtype: int64"
      ]
     },
     "execution_count": 67,
     "metadata": {},
     "output_type": "execute_result"
    }
   ],
   "source": [
    "dataset_date_wise = dataset.groupby('Date_month_year')\n",
    "dataset_date_wise = dataset_date_wise.size().sort_values(ascending= False)\n",
    "dataset_date_wise"
   ]
  },
  {
   "cell_type": "markdown",
   "id": "82639b93",
   "metadata": {},
   "source": [
    "**Maximum number of complaints were recieved on 24-June-2015**"
   ]
  },
  {
   "cell_type": "code",
   "execution_count": 68,
   "id": "149e5753",
   "metadata": {},
   "outputs": [
    {
     "data": {
      "image/png": "[encoded data removed]",
      "text/plain": [
       "<Figure size 1440x720 with 1 Axes>"
      ]
     },
     "metadata": {
      "needs_background": "light"
     },
     "output_type": "display_data"
    }
   ],
   "source": [
    "plt.figure(figsize=(20,10))\n",
    "dataset['Date'].value_counts().plot.bar()\n",
    "plt.title('Trend showing Daily Number of complaints ', fontsize = 15)\n",
    "plt.xlabel('Date Month Year')\n",
    "plt.ylabel('Number of complains')\n",
    "plt.show()"
   ]
  },
  {
   "cell_type": "markdown",
   "id": "410483b2",
   "metadata": {},
   "source": [
    "# Task 3: Provide a table with the frequency of complaint types."
   ]
  },
  {
   "cell_type": "code",
   "execution_count": 69,
   "id": "9e296c32",
   "metadata": {},
   "outputs": [
    {
     "data": {
      "text/html": [
       "<div>\n",
       "<style scoped>\n",
       "    .dataframe tbody tr th:only-of-type {\n",
       "        vertical-align: middle;\n",
       "    }\n",
       "\n",
       "    .dataframe tbody tr th {\n",
       "        vertical-align: top;\n",
       "    }\n",
       "\n",
       "    .dataframe thead th {\n",
       "        text-align: right;\n",
       "    }\n",
       "</style>\n",
       "<table border=\"1\" class=\"dataframe\">\n",
       "  <thead>\n",
       "    <tr style=\"text-align: right;\">\n",
       "      <th></th>\n",
       "      <th>Ticket #</th>\n",
       "      <th>Customer Complaint</th>\n",
       "      <th>Date</th>\n",
       "      <th>Date_month_year</th>\n",
       "      <th>Time</th>\n",
       "      <th>Received Via</th>\n",
       "      <th>City</th>\n",
       "      <th>State</th>\n",
       "      <th>Zip code</th>\n",
       "      <th>Status</th>\n",
       "      <th>Filing on Behalf of Someone</th>\n",
       "      <th>Month</th>\n",
       "    </tr>\n",
       "  </thead>\n",
       "  <tbody>\n",
       "    <tr>\n",
       "      <th>1416</th>\n",
       "      <td>218108</td>\n",
       "      <td>Comcast Business Phone/Internet Contract Disag...</td>\n",
       "      <td>04-04-15</td>\n",
       "      <td>04-Apr-15</td>\n",
       "      <td>6:39:55 PM</td>\n",
       "      <td>Internet</td>\n",
       "      <td>Newnan</td>\n",
       "      <td>Georgia</td>\n",
       "      <td>30265</td>\n",
       "      <td>Closed</td>\n",
       "      <td>No</td>\n",
       "      <td>4</td>\n",
       "    </tr>\n",
       "    <tr>\n",
       "      <th>1483</th>\n",
       "      <td>217985</td>\n",
       "      <td>bait and switch services for monetary gain</td>\n",
       "      <td>04-04-15</td>\n",
       "      <td>04-Apr-15</td>\n",
       "      <td>4:07:36 PM</td>\n",
       "      <td>Internet</td>\n",
       "      <td>Orcutt</td>\n",
       "      <td>California</td>\n",
       "      <td>93455</td>\n",
       "      <td>Closed</td>\n",
       "      <td>No</td>\n",
       "      <td>4</td>\n",
       "    </tr>\n",
       "    <tr>\n",
       "      <th>584</th>\n",
       "      <td>217999</td>\n",
       "      <td>Misleading information given</td>\n",
       "      <td>04-04-15</td>\n",
       "      <td>04-Apr-15</td>\n",
       "      <td>4:21:46 PM</td>\n",
       "      <td>Internet</td>\n",
       "      <td>Des Moines</td>\n",
       "      <td>Washington</td>\n",
       "      <td>98148</td>\n",
       "      <td>Closed</td>\n",
       "      <td>Yes</td>\n",
       "      <td>4</td>\n",
       "    </tr>\n",
       "    <tr>\n",
       "      <th>561</th>\n",
       "      <td>218043</td>\n",
       "      <td>comcast services</td>\n",
       "      <td>04-04-15</td>\n",
       "      <td>04-Apr-15</td>\n",
       "      <td>5:32:05 PM</td>\n",
       "      <td>Internet</td>\n",
       "      <td>Denver</td>\n",
       "      <td>Colorado</td>\n",
       "      <td>80227</td>\n",
       "      <td>Closed</td>\n",
       "      <td>No</td>\n",
       "      <td>4</td>\n",
       "    </tr>\n",
       "    <tr>\n",
       "      <th>1892</th>\n",
       "      <td>218168</td>\n",
       "      <td>Multiple Unauthorized and Unwarranted Credit C...</td>\n",
       "      <td>04-04-15</td>\n",
       "      <td>04-Apr-15</td>\n",
       "      <td>8:10:35 PM</td>\n",
       "      <td>Customer Care Call</td>\n",
       "      <td>Shoreview</td>\n",
       "      <td>Minnesota</td>\n",
       "      <td>55126</td>\n",
       "      <td>Closed</td>\n",
       "      <td>No</td>\n",
       "      <td>4</td>\n",
       "    </tr>\n",
       "  </tbody>\n",
       "</table>\n",
       "</div>"
      ],
      "text/plain": [
       "     Ticket #                                 Customer Complaint      Date  \\\n",
       "1416   218108  Comcast Business Phone/Internet Contract Disag...  04-04-15   \n",
       "1483   217985         bait and switch services for monetary gain  04-04-15   \n",
       "584    217999                       Misleading information given  04-04-15   \n",
       "561    218043                                   comcast services  04-04-15   \n",
       "1892   218168  Multiple Unauthorized and Unwarranted Credit C...  04-04-15   \n",
       "\n",
       "     Date_month_year        Time        Received Via        City       State  \\\n",
       "1416       04-Apr-15  6:39:55 PM            Internet      Newnan     Georgia   \n",
       "1483       04-Apr-15  4:07:36 PM            Internet      Orcutt  California   \n",
       "584        04-Apr-15  4:21:46 PM            Internet  Des Moines  Washington   \n",
       "561        04-Apr-15  5:32:05 PM            Internet      Denver    Colorado   \n",
       "1892       04-Apr-15  8:10:35 PM  Customer Care Call   Shoreview   Minnesota   \n",
       "\n",
       "      Zip code  Status Filing on Behalf of Someone  Month  \n",
       "1416     30265  Closed                          No      4  \n",
       "1483     93455  Closed                          No      4  \n",
       "584      98148  Closed                         Yes      4  \n",
       "561      80227  Closed                          No      4  \n",
       "1892     55126  Closed                          No      4  "
      ]
     },
     "execution_count": 69,
     "metadata": {},
     "output_type": "execute_result"
    }
   ],
   "source": [
    "dataset.head()"
   ]
  },
  {
   "cell_type": "code",
   "execution_count": 70,
   "id": "0c34889c",
   "metadata": {},
   "outputs": [
    {
     "data": {
      "text/plain": [
       "comcast              102\n",
       "comcast data cap      30\n",
       "comcast internet      29\n",
       "comcast data caps     21\n",
       "comcast billing       18\n",
       "Name: Customer Complaint, dtype: int64"
      ]
     },
     "execution_count": 70,
     "metadata": {},
     "output_type": "execute_result"
    }
   ],
   "source": [
    "complain_type = dataset['Customer Complaint'].str.lower().value_counts().sort_values(ascending= False)\n",
    "#lower case the srting as Python is case sensitive and it will read COMCAST,Comcast,comcast as 3 different complaints\n",
    "complain_type.head()"
   ]
  },
  {
   "cell_type": "markdown",
   "id": "ad6c9dfb",
   "metadata": {},
   "source": [
    "**Top 10 Complaints are**"
   ]
  },
  {
   "cell_type": "code",
   "execution_count": 71,
   "id": "3deb09d2",
   "metadata": {},
   "outputs": [
    {
     "data": {
      "text/plain": [
       "comcast                     102\n",
       "comcast data cap             30\n",
       "comcast internet             29\n",
       "comcast data caps            21\n",
       "comcast billing              18\n",
       "comcast service              15\n",
       "internet speed               15\n",
       "data caps                    13\n",
       "unfair billing practices     13\n",
       "data cap                     12\n",
       "Name: Customer Complaint, dtype: int64"
      ]
     },
     "execution_count": 71,
     "metadata": {},
     "output_type": "execute_result"
    }
   ],
   "source": [
    "complain_type.head(10)"
   ]
  },
  {
   "cell_type": "code",
   "execution_count": 72,
   "id": "464fb071",
   "metadata": {},
   "outputs": [
    {
     "data": {
      "image/png": "[encoded data removed]",
      "text/plain": [
       "<Figure size 720x720 with 1 Axes>"
      ]
     },
     "metadata": {
      "needs_background": "light"
     },
     "output_type": "display_data"
    }
   ],
   "source": [
    "complain_type_head = complain_type.head(10)\n",
    "plt.figure(figsize=(10,10))\n",
    "complain_type_head.plot.bar()\n",
    "plt.title('Highest Number of Complaint Types ')\n",
    "plt.xlabel('Complaint Type')\n",
    "plt.ylabel('Number of complaints')\n",
    "plt.show()"
   ]
  },
  {
   "cell_type": "markdown",
   "id": "959d63f1",
   "metadata": {},
   "source": [
    "**Maximum complaints are from data cap, internet problems and billing issues and services**"
   ]
  },
  {
   "cell_type": "markdown",
   "id": "d59ec40c",
   "metadata": {},
   "source": [
    "# Task 4: Create a new categorical variable with value as Open and Closed. Open & Pending is to be categorized as Open and Closed & Solved is to be categorized as Closed"
   ]
  },
  {
   "cell_type": "code",
   "execution_count": 73,
   "id": "a67b1254",
   "metadata": {},
   "outputs": [],
   "source": [
    "#Status"
   ]
  },
  {
   "cell_type": "code",
   "execution_count": 74,
   "id": "fae6a0fc",
   "metadata": {},
   "outputs": [
    {
     "data": {
      "text/html": [
       "<div>\n",
       "<style scoped>\n",
       "    .dataframe tbody tr th:only-of-type {\n",
       "        vertical-align: middle;\n",
       "    }\n",
       "\n",
       "    .dataframe tbody tr th {\n",
       "        vertical-align: top;\n",
       "    }\n",
       "\n",
       "    .dataframe thead th {\n",
       "        text-align: right;\n",
       "    }\n",
       "</style>\n",
       "<table border=\"1\" class=\"dataframe\">\n",
       "  <thead>\n",
       "    <tr style=\"text-align: right;\">\n",
       "      <th></th>\n",
       "      <th>Ticket #</th>\n",
       "      <th>Customer Complaint</th>\n",
       "      <th>Date</th>\n",
       "      <th>Date_month_year</th>\n",
       "      <th>Time</th>\n",
       "      <th>Received Via</th>\n",
       "      <th>City</th>\n",
       "      <th>State</th>\n",
       "      <th>Zip code</th>\n",
       "      <th>Status</th>\n",
       "      <th>Filing on Behalf of Someone</th>\n",
       "      <th>Month</th>\n",
       "    </tr>\n",
       "  </thead>\n",
       "  <tbody>\n",
       "    <tr>\n",
       "      <th>1416</th>\n",
       "      <td>218108</td>\n",
       "      <td>Comcast Business Phone/Internet Contract Disag...</td>\n",
       "      <td>04-04-15</td>\n",
       "      <td>04-Apr-15</td>\n",
       "      <td>6:39:55 PM</td>\n",
       "      <td>Internet</td>\n",
       "      <td>Newnan</td>\n",
       "      <td>Georgia</td>\n",
       "      <td>30265</td>\n",
       "      <td>Closed</td>\n",
       "      <td>No</td>\n",
       "      <td>4</td>\n",
       "    </tr>\n",
       "    <tr>\n",
       "      <th>1483</th>\n",
       "      <td>217985</td>\n",
       "      <td>bait and switch services for monetary gain</td>\n",
       "      <td>04-04-15</td>\n",
       "      <td>04-Apr-15</td>\n",
       "      <td>4:07:36 PM</td>\n",
       "      <td>Internet</td>\n",
       "      <td>Orcutt</td>\n",
       "      <td>California</td>\n",
       "      <td>93455</td>\n",
       "      <td>Closed</td>\n",
       "      <td>No</td>\n",
       "      <td>4</td>\n",
       "    </tr>\n",
       "    <tr>\n",
       "      <th>584</th>\n",
       "      <td>217999</td>\n",
       "      <td>Misleading information given</td>\n",
       "      <td>04-04-15</td>\n",
       "      <td>04-Apr-15</td>\n",
       "      <td>4:21:46 PM</td>\n",
       "      <td>Internet</td>\n",
       "      <td>Des Moines</td>\n",
       "      <td>Washington</td>\n",
       "      <td>98148</td>\n",
       "      <td>Closed</td>\n",
       "      <td>Yes</td>\n",
       "      <td>4</td>\n",
       "    </tr>\n",
       "    <tr>\n",
       "      <th>561</th>\n",
       "      <td>218043</td>\n",
       "      <td>comcast services</td>\n",
       "      <td>04-04-15</td>\n",
       "      <td>04-Apr-15</td>\n",
       "      <td>5:32:05 PM</td>\n",
       "      <td>Internet</td>\n",
       "      <td>Denver</td>\n",
       "      <td>Colorado</td>\n",
       "      <td>80227</td>\n",
       "      <td>Closed</td>\n",
       "      <td>No</td>\n",
       "      <td>4</td>\n",
       "    </tr>\n",
       "    <tr>\n",
       "      <th>1892</th>\n",
       "      <td>218168</td>\n",
       "      <td>Multiple Unauthorized and Unwarranted Credit C...</td>\n",
       "      <td>04-04-15</td>\n",
       "      <td>04-Apr-15</td>\n",
       "      <td>8:10:35 PM</td>\n",
       "      <td>Customer Care Call</td>\n",
       "      <td>Shoreview</td>\n",
       "      <td>Minnesota</td>\n",
       "      <td>55126</td>\n",
       "      <td>Closed</td>\n",
       "      <td>No</td>\n",
       "      <td>4</td>\n",
       "    </tr>\n",
       "  </tbody>\n",
       "</table>\n",
       "</div>"
      ],
      "text/plain": [
       "     Ticket #                                 Customer Complaint      Date  \\\n",
       "1416   218108  Comcast Business Phone/Internet Contract Disag...  04-04-15   \n",
       "1483   217985         bait and switch services for monetary gain  04-04-15   \n",
       "584    217999                       Misleading information given  04-04-15   \n",
       "561    218043                                   comcast services  04-04-15   \n",
       "1892   218168  Multiple Unauthorized and Unwarranted Credit C...  04-04-15   \n",
       "\n",
       "     Date_month_year        Time        Received Via        City       State  \\\n",
       "1416       04-Apr-15  6:39:55 PM            Internet      Newnan     Georgia   \n",
       "1483       04-Apr-15  4:07:36 PM            Internet      Orcutt  California   \n",
       "584        04-Apr-15  4:21:46 PM            Internet  Des Moines  Washington   \n",
       "561        04-Apr-15  5:32:05 PM            Internet      Denver    Colorado   \n",
       "1892       04-Apr-15  8:10:35 PM  Customer Care Call   Shoreview   Minnesota   \n",
       "\n",
       "      Zip code  Status Filing on Behalf of Someone  Month  \n",
       "1416     30265  Closed                          No      4  \n",
       "1483     93455  Closed                          No      4  \n",
       "584      98148  Closed                         Yes      4  \n",
       "561      80227  Closed                          No      4  \n",
       "1892     55126  Closed                          No      4  "
      ]
     },
     "execution_count": 74,
     "metadata": {},
     "output_type": "execute_result"
    }
   ],
   "source": [
    "dataset.head()"
   ]
  },
  {
   "cell_type": "code",
   "execution_count": 75,
   "id": "7457f960",
   "metadata": {},
   "outputs": [
    {
     "data": {
      "text/plain": [
       "Solved     973\n",
       "Closed     734\n",
       "Open       363\n",
       "Pending    154\n",
       "Name: Status, dtype: int64"
      ]
     },
     "execution_count": 75,
     "metadata": {},
     "output_type": "execute_result"
    }
   ],
   "source": [
    "dataset['Status'].value_counts()"
   ]
  },
  {
   "cell_type": "code",
   "execution_count": 76,
   "id": "d7633714",
   "metadata": {},
   "outputs": [
    {
     "data": {
      "text/plain": [
       "Closed    1707\n",
       "Open       517\n",
       "Name: New Status, dtype: int64"
      ]
     },
     "execution_count": 76,
     "metadata": {},
     "output_type": "execute_result"
    }
   ],
   "source": [
    "dataset['New Status'] = dataset['Status']\n",
    "dataset['New Status'].replace(('Pending', 'Solved'), ('Open', 'Closed'), inplace=True)\n",
    "dataset['New Status'].value_counts()"
   ]
  },
  {
   "cell_type": "code",
   "execution_count": 77,
   "id": "e7679557",
   "metadata": {},
   "outputs": [
    {
     "data": {
      "text/html": [
       "<div>\n",
       "<style scoped>\n",
       "    .dataframe tbody tr th:only-of-type {\n",
       "        vertical-align: middle;\n",
       "    }\n",
       "\n",
       "    .dataframe tbody tr th {\n",
       "        vertical-align: top;\n",
       "    }\n",
       "\n",
       "    .dataframe thead th {\n",
       "        text-align: right;\n",
       "    }\n",
       "</style>\n",
       "<table border=\"1\" class=\"dataframe\">\n",
       "  <thead>\n",
       "    <tr style=\"text-align: right;\">\n",
       "      <th>New Status</th>\n",
       "      <th>Closed</th>\n",
       "      <th>Open</th>\n",
       "    </tr>\n",
       "    <tr>\n",
       "      <th>State</th>\n",
       "      <th></th>\n",
       "      <th></th>\n",
       "    </tr>\n",
       "  </thead>\n",
       "  <tbody>\n",
       "    <tr>\n",
       "      <th>Alabama</th>\n",
       "      <td>17.0</td>\n",
       "      <td>9.0</td>\n",
       "    </tr>\n",
       "    <tr>\n",
       "      <th>Arizona</th>\n",
       "      <td>14.0</td>\n",
       "      <td>6.0</td>\n",
       "    </tr>\n",
       "    <tr>\n",
       "      <th>Arkansas</th>\n",
       "      <td>6.0</td>\n",
       "      <td>0.0</td>\n",
       "    </tr>\n",
       "    <tr>\n",
       "      <th>California</th>\n",
       "      <td>159.0</td>\n",
       "      <td>61.0</td>\n",
       "    </tr>\n",
       "    <tr>\n",
       "      <th>Colorado</th>\n",
       "      <td>58.0</td>\n",
       "      <td>22.0</td>\n",
       "    </tr>\n",
       "    <tr>\n",
       "      <th>Connecticut</th>\n",
       "      <td>9.0</td>\n",
       "      <td>3.0</td>\n",
       "    </tr>\n",
       "    <tr>\n",
       "      <th>Delaware</th>\n",
       "      <td>8.0</td>\n",
       "      <td>4.0</td>\n",
       "    </tr>\n",
       "    <tr>\n",
       "      <th>District Of Columbia</th>\n",
       "      <td>14.0</td>\n",
       "      <td>2.0</td>\n",
       "    </tr>\n",
       "    <tr>\n",
       "      <th>District of Columbia</th>\n",
       "      <td>1.0</td>\n",
       "      <td>0.0</td>\n",
       "    </tr>\n",
       "    <tr>\n",
       "      <th>Florida</th>\n",
       "      <td>201.0</td>\n",
       "      <td>39.0</td>\n",
       "    </tr>\n",
       "    <tr>\n",
       "      <th>Georgia</th>\n",
       "      <td>208.0</td>\n",
       "      <td>80.0</td>\n",
       "    </tr>\n",
       "    <tr>\n",
       "      <th>Illinois</th>\n",
       "      <td>135.0</td>\n",
       "      <td>29.0</td>\n",
       "    </tr>\n",
       "    <tr>\n",
       "      <th>Indiana</th>\n",
       "      <td>50.0</td>\n",
       "      <td>9.0</td>\n",
       "    </tr>\n",
       "    <tr>\n",
       "      <th>Iowa</th>\n",
       "      <td>1.0</td>\n",
       "      <td>0.0</td>\n",
       "    </tr>\n",
       "    <tr>\n",
       "      <th>Kansas</th>\n",
       "      <td>1.0</td>\n",
       "      <td>1.0</td>\n",
       "    </tr>\n",
       "    <tr>\n",
       "      <th>Kentucky</th>\n",
       "      <td>4.0</td>\n",
       "      <td>3.0</td>\n",
       "    </tr>\n",
       "    <tr>\n",
       "      <th>Louisiana</th>\n",
       "      <td>12.0</td>\n",
       "      <td>1.0</td>\n",
       "    </tr>\n",
       "    <tr>\n",
       "      <th>Maine</th>\n",
       "      <td>3.0</td>\n",
       "      <td>2.0</td>\n",
       "    </tr>\n",
       "    <tr>\n",
       "      <th>Maryland</th>\n",
       "      <td>63.0</td>\n",
       "      <td>15.0</td>\n",
       "    </tr>\n",
       "    <tr>\n",
       "      <th>Massachusetts</th>\n",
       "      <td>50.0</td>\n",
       "      <td>11.0</td>\n",
       "    </tr>\n",
       "    <tr>\n",
       "      <th>Michigan</th>\n",
       "      <td>92.0</td>\n",
       "      <td>23.0</td>\n",
       "    </tr>\n",
       "    <tr>\n",
       "      <th>Minnesota</th>\n",
       "      <td>29.0</td>\n",
       "      <td>4.0</td>\n",
       "    </tr>\n",
       "    <tr>\n",
       "      <th>Mississippi</th>\n",
       "      <td>23.0</td>\n",
       "      <td>16.0</td>\n",
       "    </tr>\n",
       "    <tr>\n",
       "      <th>Missouri</th>\n",
       "      <td>3.0</td>\n",
       "      <td>1.0</td>\n",
       "    </tr>\n",
       "    <tr>\n",
       "      <th>Montana</th>\n",
       "      <td>1.0</td>\n",
       "      <td>0.0</td>\n",
       "    </tr>\n",
       "    <tr>\n",
       "      <th>Nevada</th>\n",
       "      <td>1.0</td>\n",
       "      <td>0.0</td>\n",
       "    </tr>\n",
       "    <tr>\n",
       "      <th>New Hampshire</th>\n",
       "      <td>8.0</td>\n",
       "      <td>4.0</td>\n",
       "    </tr>\n",
       "    <tr>\n",
       "      <th>New Jersey</th>\n",
       "      <td>56.0</td>\n",
       "      <td>19.0</td>\n",
       "    </tr>\n",
       "    <tr>\n",
       "      <th>New Mexico</th>\n",
       "      <td>11.0</td>\n",
       "      <td>4.0</td>\n",
       "    </tr>\n",
       "    <tr>\n",
       "      <th>New York</th>\n",
       "      <td>6.0</td>\n",
       "      <td>0.0</td>\n",
       "    </tr>\n",
       "    <tr>\n",
       "      <th>North Carolina</th>\n",
       "      <td>3.0</td>\n",
       "      <td>0.0</td>\n",
       "    </tr>\n",
       "    <tr>\n",
       "      <th>Ohio</th>\n",
       "      <td>3.0</td>\n",
       "      <td>0.0</td>\n",
       "    </tr>\n",
       "    <tr>\n",
       "      <th>Oregon</th>\n",
       "      <td>36.0</td>\n",
       "      <td>13.0</td>\n",
       "    </tr>\n",
       "    <tr>\n",
       "      <th>Pennsylvania</th>\n",
       "      <td>110.0</td>\n",
       "      <td>20.0</td>\n",
       "    </tr>\n",
       "    <tr>\n",
       "      <th>Rhode Island</th>\n",
       "      <td>1.0</td>\n",
       "      <td>0.0</td>\n",
       "    </tr>\n",
       "    <tr>\n",
       "      <th>South Carolina</th>\n",
       "      <td>15.0</td>\n",
       "      <td>3.0</td>\n",
       "    </tr>\n",
       "    <tr>\n",
       "      <th>Tennessee</th>\n",
       "      <td>96.0</td>\n",
       "      <td>47.0</td>\n",
       "    </tr>\n",
       "    <tr>\n",
       "      <th>Texas</th>\n",
       "      <td>49.0</td>\n",
       "      <td>22.0</td>\n",
       "    </tr>\n",
       "    <tr>\n",
       "      <th>Utah</th>\n",
       "      <td>16.0</td>\n",
       "      <td>6.0</td>\n",
       "    </tr>\n",
       "    <tr>\n",
       "      <th>Vermont</th>\n",
       "      <td>2.0</td>\n",
       "      <td>1.0</td>\n",
       "    </tr>\n",
       "    <tr>\n",
       "      <th>Virginia</th>\n",
       "      <td>49.0</td>\n",
       "      <td>11.0</td>\n",
       "    </tr>\n",
       "    <tr>\n",
       "      <th>Washington</th>\n",
       "      <td>75.0</td>\n",
       "      <td>23.0</td>\n",
       "    </tr>\n",
       "    <tr>\n",
       "      <th>West Virginia</th>\n",
       "      <td>8.0</td>\n",
       "      <td>3.0</td>\n",
       "    </tr>\n",
       "  </tbody>\n",
       "</table>\n",
       "</div>"
      ],
      "text/plain": [
       "New Status            Closed  Open\n",
       "State                             \n",
       "Alabama                 17.0   9.0\n",
       "Arizona                 14.0   6.0\n",
       "Arkansas                 6.0   0.0\n",
       "California             159.0  61.0\n",
       "Colorado                58.0  22.0\n",
       "Connecticut              9.0   3.0\n",
       "Delaware                 8.0   4.0\n",
       "District Of Columbia    14.0   2.0\n",
       "District of Columbia     1.0   0.0\n",
       "Florida                201.0  39.0\n",
       "Georgia                208.0  80.0\n",
       "Illinois               135.0  29.0\n",
       "Indiana                 50.0   9.0\n",
       "Iowa                     1.0   0.0\n",
       "Kansas                   1.0   1.0\n",
       "Kentucky                 4.0   3.0\n",
       "Louisiana               12.0   1.0\n",
       "Maine                    3.0   2.0\n",
       "Maryland                63.0  15.0\n",
       "Massachusetts           50.0  11.0\n",
       "Michigan                92.0  23.0\n",
       "Minnesota               29.0   4.0\n",
       "Mississippi             23.0  16.0\n",
       "Missouri                 3.0   1.0\n",
       "Montana                  1.0   0.0\n",
       "Nevada                   1.0   0.0\n",
       "New Hampshire            8.0   4.0\n",
       "New Jersey              56.0  19.0\n",
       "New Mexico              11.0   4.0\n",
       "New York                 6.0   0.0\n",
       "North Carolina           3.0   0.0\n",
       "Ohio                     3.0   0.0\n",
       "Oregon                  36.0  13.0\n",
       "Pennsylvania           110.0  20.0\n",
       "Rhode Island             1.0   0.0\n",
       "South Carolina          15.0   3.0\n",
       "Tennessee               96.0  47.0\n",
       "Texas                   49.0  22.0\n",
       "Utah                    16.0   6.0\n",
       "Vermont                  2.0   1.0\n",
       "Virginia                49.0  11.0\n",
       "Washington              75.0  23.0\n",
       "West Virginia            8.0   3.0"
      ]
     },
     "execution_count": 77,
     "metadata": {},
     "output_type": "execute_result"
    }
   ],
   "source": [
    "complaint_by_state = dataset.groupby(['State','New Status']).size().unstack().fillna(0)\n",
    "complaint_by_state"
   ]
  },
  {
   "cell_type": "code",
   "execution_count": 78,
   "id": "f6814fcf",
   "metadata": {},
   "outputs": [
    {
     "data": {
      "text/plain": [
       "Text(0.5, 1.0, 'Stacked bar chart of State wise status of complaints')"
      ]
     },
     "execution_count": 78,
     "metadata": {},
     "output_type": "execute_result"
    },
    {
     "data": {
      "image/png": "[encoded data removed]",
      "text/plain": [
       "<Figure size 1152x432 with 1 Axes>"
      ]
     },
     "metadata": {
      "needs_background": "light"
     },
     "output_type": "display_data"
    }
   ],
   "source": [
    "\n",
    "complaint_by_state.sort_values('Closed',axis = 0,ascending=False).plot(kind=\"bar\", figsize=(16,6), stacked=True)\n",
    "plt.ylabel(\"Complaints\")\n",
    "plt.title('Stacked bar chart of State wise status of complaints', fontsize = 15)"
   ]
  },
  {
   "cell_type": "markdown",
   "id": "b9188046",
   "metadata": {},
   "source": [
    "**State wise data**"
   ]
  },
  {
   "cell_type": "code",
   "execution_count": 79,
   "id": "856ab302",
   "metadata": {},
   "outputs": [
    {
     "data": {
      "text/plain": [
       "Georgia         288\n",
       "Florida         240\n",
       "California      220\n",
       "Illinois        164\n",
       "Tennessee       143\n",
       "Pennsylvania    130\n",
       "Michigan        115\n",
       "Washington       98\n",
       "Colorado         80\n",
       "Maryland         78\n",
       "Name: State, dtype: int64"
      ]
     },
     "execution_count": 79,
     "metadata": {},
     "output_type": "execute_result"
    }
   ],
   "source": [
    "# Which state has the maximum complaints \n",
    "dataset['State'].value_counts().head(10)"
   ]
  },
  {
   "cell_type": "code",
   "execution_count": 80,
   "id": "1666baa4",
   "metadata": {
    "scrolled": true
   },
   "outputs": [
    {
     "data": {
      "image/png": "[encoded data removed]",
      "text/plain": [
       "<Figure size 720x216 with 1 Axes>"
      ]
     },
     "metadata": {
      "needs_background": "light"
     },
     "output_type": "display_data"
    }
   ],
   "source": [
    "plt.figure(figsize=(10,3))\n",
    "dataset['State'].value_counts().head(10).plot.bar()\n",
    "plt.title('Highest Number of Complaint Types ')\n",
    "plt.xlabel('State')\n",
    "plt.ylabel('Number of complaints')\n",
    "plt.show()"
   ]
  },
  {
   "cell_type": "markdown",
   "id": "888f69bf",
   "metadata": {},
   "source": [
    "**Georgia has the maximum complaints (288).**"
   ]
  },
  {
   "cell_type": "markdown",
   "id": "1c2779ef",
   "metadata": {},
   "source": [
    "# Task 5: Which state has the highest percentage of unresolved complaints?"
   ]
  },
  {
   "cell_type": "code",
   "execution_count": 81,
   "id": "7029436f",
   "metadata": {},
   "outputs": [
    {
     "data": {
      "text/html": [
       "<div>\n",
       "<style scoped>\n",
       "    .dataframe tbody tr th:only-of-type {\n",
       "        vertical-align: middle;\n",
       "    }\n",
       "\n",
       "    .dataframe tbody tr th {\n",
       "        vertical-align: top;\n",
       "    }\n",
       "\n",
       "    .dataframe thead th {\n",
       "        text-align: right;\n",
       "    }\n",
       "</style>\n",
       "<table border=\"1\" class=\"dataframe\">\n",
       "  <thead>\n",
       "    <tr style=\"text-align: right;\">\n",
       "      <th></th>\n",
       "      <th>Ticket #</th>\n",
       "      <th>Customer Complaint</th>\n",
       "      <th>Date</th>\n",
       "      <th>Date_month_year</th>\n",
       "      <th>Time</th>\n",
       "      <th>Received Via</th>\n",
       "      <th>City</th>\n",
       "      <th>State</th>\n",
       "      <th>Zip code</th>\n",
       "      <th>Status</th>\n",
       "      <th>Filing on Behalf of Someone</th>\n",
       "      <th>Month</th>\n",
       "      <th>New Status</th>\n",
       "    </tr>\n",
       "  </thead>\n",
       "  <tbody>\n",
       "    <tr>\n",
       "      <th>1416</th>\n",
       "      <td>218108</td>\n",
       "      <td>Comcast Business Phone/Internet Contract Disag...</td>\n",
       "      <td>04-04-15</td>\n",
       "      <td>04-Apr-15</td>\n",
       "      <td>6:39:55 PM</td>\n",
       "      <td>Internet</td>\n",
       "      <td>Newnan</td>\n",
       "      <td>Georgia</td>\n",
       "      <td>30265</td>\n",
       "      <td>Closed</td>\n",
       "      <td>No</td>\n",
       "      <td>4</td>\n",
       "      <td>Closed</td>\n",
       "    </tr>\n",
       "    <tr>\n",
       "      <th>1483</th>\n",
       "      <td>217985</td>\n",
       "      <td>bait and switch services for monetary gain</td>\n",
       "      <td>04-04-15</td>\n",
       "      <td>04-Apr-15</td>\n",
       "      <td>4:07:36 PM</td>\n",
       "      <td>Internet</td>\n",
       "      <td>Orcutt</td>\n",
       "      <td>California</td>\n",
       "      <td>93455</td>\n",
       "      <td>Closed</td>\n",
       "      <td>No</td>\n",
       "      <td>4</td>\n",
       "      <td>Closed</td>\n",
       "    </tr>\n",
       "    <tr>\n",
       "      <th>584</th>\n",
       "      <td>217999</td>\n",
       "      <td>Misleading information given</td>\n",
       "      <td>04-04-15</td>\n",
       "      <td>04-Apr-15</td>\n",
       "      <td>4:21:46 PM</td>\n",
       "      <td>Internet</td>\n",
       "      <td>Des Moines</td>\n",
       "      <td>Washington</td>\n",
       "      <td>98148</td>\n",
       "      <td>Closed</td>\n",
       "      <td>Yes</td>\n",
       "      <td>4</td>\n",
       "      <td>Closed</td>\n",
       "    </tr>\n",
       "    <tr>\n",
       "      <th>561</th>\n",
       "      <td>218043</td>\n",
       "      <td>comcast services</td>\n",
       "      <td>04-04-15</td>\n",
       "      <td>04-Apr-15</td>\n",
       "      <td>5:32:05 PM</td>\n",
       "      <td>Internet</td>\n",
       "      <td>Denver</td>\n",
       "      <td>Colorado</td>\n",
       "      <td>80227</td>\n",
       "      <td>Closed</td>\n",
       "      <td>No</td>\n",
       "      <td>4</td>\n",
       "      <td>Closed</td>\n",
       "    </tr>\n",
       "    <tr>\n",
       "      <th>1892</th>\n",
       "      <td>218168</td>\n",
       "      <td>Multiple Unauthorized and Unwarranted Credit C...</td>\n",
       "      <td>04-04-15</td>\n",
       "      <td>04-Apr-15</td>\n",
       "      <td>8:10:35 PM</td>\n",
       "      <td>Customer Care Call</td>\n",
       "      <td>Shoreview</td>\n",
       "      <td>Minnesota</td>\n",
       "      <td>55126</td>\n",
       "      <td>Closed</td>\n",
       "      <td>No</td>\n",
       "      <td>4</td>\n",
       "      <td>Closed</td>\n",
       "    </tr>\n",
       "  </tbody>\n",
       "</table>\n",
       "</div>"
      ],
      "text/plain": [
       "     Ticket #                                 Customer Complaint      Date  \\\n",
       "1416   218108  Comcast Business Phone/Internet Contract Disag...  04-04-15   \n",
       "1483   217985         bait and switch services for monetary gain  04-04-15   \n",
       "584    217999                       Misleading information given  04-04-15   \n",
       "561    218043                                   comcast services  04-04-15   \n",
       "1892   218168  Multiple Unauthorized and Unwarranted Credit C...  04-04-15   \n",
       "\n",
       "     Date_month_year        Time        Received Via        City       State  \\\n",
       "1416       04-Apr-15  6:39:55 PM            Internet      Newnan     Georgia   \n",
       "1483       04-Apr-15  4:07:36 PM            Internet      Orcutt  California   \n",
       "584        04-Apr-15  4:21:46 PM            Internet  Des Moines  Washington   \n",
       "561        04-Apr-15  5:32:05 PM            Internet      Denver    Colorado   \n",
       "1892       04-Apr-15  8:10:35 PM  Customer Care Call   Shoreview   Minnesota   \n",
       "\n",
       "      Zip code  Status Filing on Behalf of Someone  Month New Status  \n",
       "1416     30265  Closed                          No      4     Closed  \n",
       "1483     93455  Closed                          No      4     Closed  \n",
       "584      98148  Closed                         Yes      4     Closed  \n",
       "561      80227  Closed                          No      4     Closed  \n",
       "1892     55126  Closed                          No      4     Closed  "
      ]
     },
     "execution_count": 81,
     "metadata": {},
     "output_type": "execute_result"
    }
   ],
   "source": [
    "dataset.head()"
   ]
  },
  {
   "cell_type": "code",
   "execution_count": 82,
   "id": "27d1a905",
   "metadata": {},
   "outputs": [],
   "source": [
    "unresolved_complaints = dataset[dataset['New Status']=='Open']"
   ]
  },
  {
   "cell_type": "code",
   "execution_count": 83,
   "id": "1ab7989c",
   "metadata": {},
   "outputs": [
    {
     "data": {
      "text/plain": [
       "Georgia                 80\n",
       "California              61\n",
       "Tennessee               47\n",
       "Florida                 39\n",
       "Illinois                29\n",
       "Michigan                23\n",
       "Washington              23\n",
       "Texas                   22\n",
       "Colorado                22\n",
       "Pennsylvania            20\n",
       "New Jersey              19\n",
       "Mississippi             16\n",
       "Maryland                15\n",
       "Oregon                  13\n",
       "Massachusetts           11\n",
       "Virginia                11\n",
       "Indiana                  9\n",
       "Alabama                  9\n",
       "Utah                     6\n",
       "Arizona                  6\n",
       "Delaware                 4\n",
       "New Mexico               4\n",
       "New Hampshire            4\n",
       "Minnesota                4\n",
       "South Carolina           3\n",
       "Connecticut              3\n",
       "West Virginia            3\n",
       "Kentucky                 3\n",
       "Maine                    2\n",
       "District Of Columbia     2\n",
       "Vermont                  1\n",
       "Kansas                   1\n",
       "Missouri                 1\n",
       "Louisiana                1\n",
       "Name: State, dtype: int64"
      ]
     },
     "execution_count": 83,
     "metadata": {},
     "output_type": "execute_result"
    }
   ],
   "source": [
    "unresolved_complaint_count = unresolved_complaints.State.value_counts()\n",
    "unresolved_complaint_count"
   ]
  },
  {
   "cell_type": "code",
   "execution_count": 84,
   "id": "89e0a30b",
   "metadata": {},
   "outputs": [
    {
     "data": {
      "text/plain": [
       "Text(0.5, 1.0, 'Highest percentage of unresolved complaints')"
      ]
     },
     "execution_count": 84,
     "metadata": {},
     "output_type": "execute_result"
    },
    {
     "data": {
      "image/png": "[encoded data removed]",
      "text/plain": [
       "<Figure size 1008x864 with 1 Axes>"
      ]
     },
     "metadata": {
      "needs_background": "light"
     },
     "output_type": "display_data"
    }
   ],
   "source": [
    "#Show this by Bar Graph\n",
    "unresolved_complaint_count.plot(kind='bar',figsize=(14,12),color=\"red\")\n",
    "plt.title('Highest percentage of unresolved complaints', fontsize= 15)"
   ]
  },
  {
   "cell_type": "markdown",
   "id": "689e2312",
   "metadata": {},
   "source": [
    "**Georgia has the Highest Number of unresolved complaints (80)**"
   ]
  },
  {
   "cell_type": "markdown",
   "id": "5e56d181",
   "metadata": {},
   "source": [
    "# Task 6: Provide the percentage of complaints resolved till date, which were received through the Internet and customer care calls."
   ]
  },
  {
   "cell_type": "code",
   "execution_count": 85,
   "id": "df1b33df",
   "metadata": {},
   "outputs": [
    {
     "data": {
      "text/plain": [
       "Received Via        New Status\n",
       "Customer Care Call  Closed        864\n",
       "                    Open          255\n",
       "Internet            Closed        843\n",
       "                    Open          262\n",
       "dtype: int64"
      ]
     },
     "execution_count": 85,
     "metadata": {},
     "output_type": "execute_result"
    }
   ],
   "source": [
    "\n",
    "complaints_received = dataset.groupby(['Received Via', 'New Status']).size()\n",
    "complaints_received"
   ]
  },
  {
   "cell_type": "code",
   "execution_count": 86,
   "id": "f970b699",
   "metadata": {},
   "outputs": [],
   "source": [
    "closed = []\n",
    "opened = []\n",
    "for counter, value in enumerate(complaints_received):\n",
    "    if counter % 2 == 0:\n",
    "        closed.append(value)\n",
    "    else:\n",
    "        opened.append(value) "
   ]
  },
  {
   "cell_type": "code",
   "execution_count": 87,
   "id": "f8a98b12",
   "metadata": {},
   "outputs": [],
   "source": [
    "closed = np.array(closed)\n",
    "opened = np.array(opened)"
   ]
  },
  {
   "cell_type": "code",
   "execution_count": 88,
   "id": "2c2263b6",
   "metadata": {},
   "outputs": [
    {
     "data": {
      "text/plain": [
       "array([864, 843])"
      ]
     },
     "execution_count": 88,
     "metadata": {},
     "output_type": "execute_result"
    }
   ],
   "source": [
    "closed"
   ]
  },
  {
   "cell_type": "code",
   "execution_count": 89,
   "id": "4bd50792",
   "metadata": {},
   "outputs": [
    {
     "data": {
      "text/plain": [
       "array([255, 262])"
      ]
     },
     "execution_count": 89,
     "metadata": {},
     "output_type": "execute_result"
    }
   ],
   "source": [
    "opened"
   ]
  },
  {
   "cell_type": "code",
   "execution_count": 90,
   "id": "7ec8a301",
   "metadata": {},
   "outputs": [],
   "source": [
    "percentage_open = (opened/(opened+closed)) * 100\n",
    "percentage_close = (closed/(opened+closed)) * 100"
   ]
  },
  {
   "cell_type": "code",
   "execution_count": 91,
   "id": "e6db30e1",
   "metadata": {},
   "outputs": [
    {
     "name": "stdout",
     "output_type": "stream",
     "text": [
      "[77.21179625 76.28959276]\n"
     ]
    }
   ],
   "source": [
    "print(percentage_close)"
   ]
  },
  {
   "cell_type": "markdown",
   "id": "6668618b",
   "metadata": {},
   "source": [
    "**Percentage of Customer Care Call complaints resolved : 77.21%**  \n",
    "**Percentage of Internet complaints Resolved : 76.28%**"
   ]
  },
  {
   "cell_type": "code",
   "execution_count": 92,
   "id": "88e84831",
   "metadata": {},
   "outputs": [
    {
     "data": {
      "text/plain": [
       "76.75069450341489"
      ]
     },
     "execution_count": 92,
     "metadata": {},
     "output_type": "execute_result"
    }
   ],
   "source": [
    "percentage_close.mean()"
   ]
  },
  {
   "cell_type": "markdown",
   "id": "3ed2a4a1",
   "metadata": {},
   "source": [
    "**Overall Percentage of complaints resolved : 77.21%** "
   ]
  },
  {
   "cell_type": "markdown",
   "id": "322192d1",
   "metadata": {},
   "source": [
    "**Verify using New status column**"
   ]
  },
  {
   "cell_type": "code",
   "execution_count": 93,
   "id": "515e3770",
   "metadata": {},
   "outputs": [
    {
     "data": {
      "text/plain": [
       "array(['Internet', 'Customer Care Call'], dtype=object)"
      ]
     },
     "execution_count": 93,
     "metadata": {},
     "output_type": "execute_result"
    }
   ],
   "source": [
    "# Check unique values in Received Via Column\n",
    "dataset['Received Via'].unique()"
   ]
  },
  {
   "cell_type": "code",
   "execution_count": 94,
   "id": "6b9c1e0f",
   "metadata": {},
   "outputs": [
    {
     "data": {
      "text/plain": [
       "Closed    1707\n",
       "Open       517\n",
       "Name: New Status, dtype: int64"
      ]
     },
     "execution_count": 94,
     "metadata": {},
     "output_type": "execute_result"
    }
   ],
   "source": [
    "dataset['New Status'].value_counts()"
   ]
  },
  {
   "cell_type": "code",
   "execution_count": 95,
   "id": "4a8fb0b6",
   "metadata": {},
   "outputs": [
    {
     "data": {
      "text/plain": [
       "<AxesSubplot:title={'center':'Complaints Status through the Internet & Customer Care Calls\\n'}, ylabel='New Status'>"
      ]
     },
     "execution_count": 95,
     "metadata": {},
     "output_type": "execute_result"
    },
    {
     "data": {
      "image/png": "[encoded data removed]",
      "text/plain": [
       "<Figure size 1440x432 with 1 Axes>"
      ]
     },
     "metadata": {},
     "output_type": "display_data"
    }
   ],
   "source": [
    "# Using autopct='%1.1f%%'  to show percentage under the pie chart\n",
    "myexplode = [0.2, 0]\n",
    "plt.title('Complaints Status through the Internet & Customer Care Calls\\n')\n",
    "dataset['New Status'].value_counts().plot(kind='pie',explode = myexplode,autopct='%1.1f%%',\n",
    "                        figsize = (20,6))"
   ]
  },
  {
   "cell_type": "markdown",
   "id": "48157e1f",
   "metadata": {},
   "source": [
    "**Percentage of complaints resolved till date is 76.8%**"
   ]
  }
 ],
 "metadata": {
  "kernelspec": {
   "display_name": "Python 3 (ipykernel)",
   "language": "python",
   "name": "python3"
  },
  "language_info": {
   "codemirror_mode": {
    "name": "ipython",
    "version": 3
   },
   "file_extension": ".py",
   "mimetype": "text/x-python",
   "name": "python",
   "nbconvert_exporter": "python",
   "pygments_lexer": "ipython3",
   "version": "3.9.12"
  }
 },
 "nbformat": 4,
 "nbformat_minor": 5
}
